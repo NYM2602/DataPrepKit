{
 "cells": [
  {
   "cell_type": "code",
   "execution_count": null,
   "id": "ae91ef49-4290-48fa-b0b9-f99a508212b8",
   "metadata": {},
   "outputs": [],
   "source": [
    "import pandas as pd\n",
    "from DataPrepKit import DataPrep"
   ]
  },
  {
   "cell_type": "markdown",
   "id": "410d4e6f-b807-4f9b-9f1d-f5637fa0adb7",
   "metadata": {},
   "source": [
    "# Initialization"
   ]
  },
  {
   "cell_type": "markdown",
   "id": "43663fe5-9498-4b57-a8e9-9175a3f3bbeb",
   "metadata": {},
   "source": [
    "First, initialize a class object like the cell below. Instances of this class do not need arguments to be initialized. They also don't contain any variables and have functions only."
   ]
  },
  {
   "cell_type": "code",
   "execution_count": null,
   "id": "15c43f45-a65b-40e5-a20e-7b90f9194062",
   "metadata": {},
   "outputs": [],
   "source": [
    "dp = DataPrep()"
   ]
  },
  {
   "cell_type": "markdown",
   "id": "2b6906ca-cfc0-4db7-b08b-870e107599e6",
   "metadata": {},
   "source": [
    "## Read Files"
   ]
  },
  {
   "cell_type": "markdown",
   "id": "708dff15-e229-44ee-93e3-5781b26f45dd",
   "metadata": {},
   "source": [
    "You can use the readData() by providing it with the filename and it returns a DataFrame. It can read from .csv, .xlsx, .html, .json, .sql, .db. if the file is not in one of these formats it returns 0. If the filename doesn't exist it raises an error."
   ]
  },
  {
   "cell_type": "code",
   "execution_count": null,
   "id": "f188f037-3aa2-45a2-9dff-28f6fdabd19c",
   "metadata": {},
   "outputs": [],
   "source": [
    "df = dp.readData('listings.csv')"
   ]
  },
  {
   "cell_type": "markdown",
   "id": "c654d24f-7728-4eec-b9ef-afa513d14d22",
   "metadata": {},
   "source": [
    "## Deal with Missing Values"
   ]
  },
  {
   "cell_type": "markdown",
   "id": "05feea17-ee44-4776-8bbd-279947787734",
   "metadata": {},
   "source": [
    "The removeNullCols() function removes all columns that contain only NULL values. It takes a DataFrame as an argument and returns a DataFrame."
   ]
  },
  {
   "cell_type": "code",
   "execution_count": null,
   "id": "fad3ed50-f0c3-4e1a-900c-c360cc798e52",
   "metadata": {},
   "outputs": [],
   "source": [
    "df = dp.removeNullCols(df)"
   ]
  },
  {
   "cell_type": "markdown",
   "id": "ebe8235a-073d-48e9-8592-680023f3347a",
   "metadata": {},
   "source": [
    "The fixNull() function needs 2 arguments the first is a DataFrame and the second is the method to deal with missing values. it takes only 'mean', 'median', and 'drop' as a second argument and returns a DataFrame."
   ]
  },
  {
   "cell_type": "code",
   "execution_count": null,
   "id": "90ebbc09-b170-436e-8046-c3b3a0080568",
   "metadata": {},
   "outputs": [],
   "source": [
    "df = dp.fixNull(df,'mean')"
   ]
  },
  {
   "cell_type": "markdown",
   "id": "2651623c-7751-44d5-bd08-af78cfa112cf",
   "metadata": {},
   "source": [
    "## Category Encoding"
   ]
  },
  {
   "cell_type": "markdown",
   "id": "3d7271b7-b5b6-495a-a518-83746632bbfc",
   "metadata": {},
   "source": [
    "The encode() function takes a DataFrame as the first argument and a list of column names as the second argument. It sorts the value names of each column and numerically encodes them. It adds the new column to the DataFrame with the same name + '_encoded' and then returns the DataFrame. The encoding starts from 1."
   ]
  },
  {
   "cell_type": "code",
   "execution_count": null,
   "id": "d9809761-60ec-405c-a535-56d0f27d34fc",
   "metadata": {},
   "outputs": [],
   "source": [
    "df = dp.encode(df, ['room_type','neighbourhood'])"
   ]
  },
  {
   "cell_type": "markdown",
   "id": "2bf88205-6714-43e1-b652-92a2c73a84b6",
   "metadata": {},
   "source": [
    "## Calculate Basic Statistics"
   ]
  },
  {
   "cell_type": "markdown",
   "id": "1cd30192-f388-459c-b56d-b3be907da514",
   "metadata": {},
   "source": [
    "The printStats() function takes a DataFrame as the first argument and 2 additional optional arguments. The first optional argument is 'numerical_cols': it takes a list of numerical columns and prints the mean and median for each of them. it prints the mean and median for all numerical columns in the DataFrame if you provide it with the value 0 as so numerical_cols = 0. The second optional argument is category_cols: it takes a list of str type column names and prints the counts of the unique values in each column. if you want the counts for all str type columns provide 0 as so category_cols=0."
   ]
  },
  {
   "cell_type": "code",
   "execution_count": null,
   "id": "6f2d8d0d-1e18-4a3b-9763-dcf950056754",
   "metadata": {},
   "outputs": [],
   "source": [
    "dp.printStats(df,numerical_cols=['latitude', 'longitude', 'price'] , category_cols=['room_type','neighbourhood'])"
   ]
  },
  {
   "cell_type": "markdown",
   "id": "4c66e5c7-110a-402b-b2cc-6782c1a08031",
   "metadata": {},
   "source": [
    "## Save Files"
   ]
  },
  {
   "cell_type": "markdown",
   "id": "8a06877b-6e4c-42e2-82fd-cc548295bcf0",
   "metadata": {},
   "source": [
    "The saveFile() funciton takes the DataFrame as the first argument and the new filename as the second argument. It works on .csv, .xlsx, .html, .json, and .sql"
   ]
  },
  {
   "cell_type": "code",
   "execution_count": null,
   "id": "67b682da-d906-4678-8095-e6e6886c8f59",
   "metadata": {},
   "outputs": [],
   "source": [
    "dp.saveFile(df, \"cleaned_listings.csv\")"
   ]
  }
 ],
 "metadata": {
  "kernelspec": {
   "display_name": "Python 3 (ipykernel)",
   "language": "python",
   "name": "python3"
  },
  "language_info": {
   "codemirror_mode": {
    "name": "ipython",
    "version": 3
   },
   "file_extension": ".py",
   "mimetype": "text/x-python",
   "name": "python",
   "nbconvert_exporter": "python",
   "pygments_lexer": "ipython3",
   "version": "3.11.7"
  }
 },
 "nbformat": 4,
 "nbformat_minor": 5
}
