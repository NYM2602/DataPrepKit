{
 "cells": [
  {
   "cell_type": "code",
   "execution_count": 1,
   "id": "ae91ef49-4290-48fa-b0b9-f99a508212b8",
   "metadata": {},
   "outputs": [],
   "source": [
    "import pandas as pd\n",
    "from DataPrepKit import DataPrep"
   ]
  },
  {
   "cell_type": "markdown",
   "id": "410d4e6f-b807-4f9b-9f1d-f5637fa0adb7",
   "metadata": {},
   "source": [
    "# Initialization"
   ]
  },
  {
   "cell_type": "markdown",
   "id": "43663fe5-9498-4b57-a8e9-9175a3f3bbeb",
   "metadata": {},
   "source": [
    "First, initialize a class object like the cell below. Instances of this class do not need arguments to be initialized. They also don't contain any variables and have functions only."
   ]
  },
  {
   "cell_type": "code",
   "execution_count": 2,
   "id": "15c43f45-a65b-40e5-a20e-7b90f9194062",
   "metadata": {},
   "outputs": [],
   "source": [
    "dp = DataPrep()"
   ]
  },
  {
   "cell_type": "markdown",
   "id": "708dff15-e229-44ee-93e3-5781b26f45dd",
   "metadata": {},
   "source": [
    "You can use the readData() by providing it with the filename and it returns a DataFrame. It can read from .csv, .xlsx, .html, .json, .sql, .db. if the file is not in one of these formats it returns 0. If the filename doesn't exist it raises an error."
   ]
  },
  {
   "cell_type": "code",
   "execution_count": 3,
   "id": "f188f037-3aa2-45a2-9dff-28f6fdabd19c",
   "metadata": {},
   "outputs": [],
   "source": [
    "df = dp.readData('listings.csv')"
   ]
  },
  {
   "cell_type": "markdown",
   "id": "05feea17-ee44-4776-8bbd-279947787734",
   "metadata": {},
   "source": [
    "The removeNullCols() function removes all columns that contain only NULL values. It takes a DataFrame as an argument and returns a DataFrame."
   ]
  },
  {
   "cell_type": "code",
   "execution_count": null,
   "id": "fad3ed50-f0c3-4e1a-900c-c360cc798e52",
   "metadata": {},
   "outputs": [],
   "source": [
    "df = dp.removeNullCols(df)"
   ]
  },
  {
   "cell_type": "markdown",
   "id": "ebe8235a-073d-48e9-8592-680023f3347a",
   "metadata": {},
   "source": [
    "The fixNull() function needs 2 arguments the first is a DataFrame and the second is the method to deal with missing values. it takes only 'mean', 'median', and 'drop' as a second argument and returns a DataFrame."
   ]
  },
  {
   "cell_type": "code",
   "execution_count": 4,
   "id": "90ebbc09-b170-436e-8046-c3b3a0080568",
   "metadata": {},
   "outputs": [],
   "source": [
    "df = dp.fixNull(df,'mean')"
   ]
  },
  {
   "cell_type": "markdown",
   "id": "3d7271b7-b5b6-495a-a518-83746632bbfc",
   "metadata": {},
   "source": [
    "The encode() function takes a DataFrame as the first argument and a list of column names as the second argument. It sorts the value names of each column and numerically encodes them. It adds the new column to the DataFrame with the same name + '_encoded' and then returns the DataFrame. The encoding starts from 1."
   ]
  },
  {
   "cell_type": "code",
   "execution_count": 6,
   "id": "d9809761-60ec-405c-a535-56d0f27d34fc",
   "metadata": {},
   "outputs": [],
   "source": [
    "df = dp.encode(df, ['room_type','neighbourhood'])"
   ]
  },
  {
   "cell_type": "markdown",
   "id": "4ff6a8cb-7bfd-41b5-a4c2-77be5b478cdd",
   "metadata": {},
   "source": [
    "The printStats() function takes a DataFrame as the first argument and 2 additional optional arguments. The first optional argument is 'numerical_cols': it takes a list of numerical columns and prints the mean and median for each of them. it prints the mean and median for all numerical columns in the DataFrame if you provide it with the value 0 as so numerical_cols = 0. The second optional argument is category_cols: it takes a list of str type column names and prints the counts of the unique values in each columns"
   ]
  },
  {
   "cell_type": "code",
   "execution_count": 7,
   "id": "6f2d8d0d-1e18-4a3b-9763-dcf950056754",
   "metadata": {},
   "outputs": [
    {
     "name": "stdout",
     "output_type": "stream",
     "text": [
      "***Key Statistical Data***\n",
      "Mean and Median for numerical columns:\n",
      "latitude: mean= 42.65757050230569, median= 42.6573\n",
      "longitude: mean= -73.77680454604476, median= -73.77351291441055\n",
      "price: mean= 125.2032967032967, median= 100.0\n",
      "\n",
      "Value Counts for categorically encoded columns:\n",
      "room_type\n",
      "Entire home/apt    285\n",
      "Private room       119\n",
      "Shared room          3\n",
      "Name: count, dtype: int64\n",
      "\n",
      "neighbourhood\n",
      "SIXTH WARD         86\n",
      "SECOND WARD        51\n",
      "TENTH WARD         37\n",
      "FOURTEENTH WARD    35\n",
      "THIRD WARD         35\n",
      "NINTH WARD         32\n",
      "THIRTEENTH WARD    31\n",
      "ELEVENTH WARD      19\n",
      "SEVENTH WARD       18\n",
      "FIFTEENTH WARD     17\n",
      "FOURTH WARD        14\n",
      "EIGHTH WARD         9\n",
      "FIRST WARD          9\n",
      "FIFTH WARD          8\n",
      "TWELFTH WARD        6\n",
      "Name: count, dtype: int64\n",
      "\n"
     ]
    }
   ],
   "source": [
    "dp.printStats(df,numerical_cols=['latitude', 'longitude', 'price'] , category_cols=['room_type','neighbourhood'])"
   ]
  }
 ],
 "metadata": {
  "kernelspec": {
   "display_name": "Python 3 (ipykernel)",
   "language": "python",
   "name": "python3"
  },
  "language_info": {
   "codemirror_mode": {
    "name": "ipython",
    "version": 3
   },
   "file_extension": ".py",
   "mimetype": "text/x-python",
   "name": "python",
   "nbconvert_exporter": "python",
   "pygments_lexer": "ipython3",
   "version": "3.11.7"
  }
 },
 "nbformat": 4,
 "nbformat_minor": 5
}
